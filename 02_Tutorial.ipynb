{
 "cells": [
  {
   "cell_type": "code",
   "execution_count": null,
   "id": "d0e6c59e-1c4d-441d-bc36-1551127fe09d",
   "metadata": {},
   "outputs": [],
   "source": [
    "# hide\n",
    "%load_ext autoreload\n",
    "%autoreload 2"
   ]
  },
  {
   "cell_type": "markdown",
   "id": "a1a8c3e7-bffe-48d8-b650-ba2754800282",
   "metadata": {},
   "source": [
    "# Tutorial"
   ]
  },
  {
   "cell_type": "markdown",
   "id": "f0c8faaa-1068-448d-b1cc-7fd39e2863bc",
   "metadata": {},
   "source": [
    "Import library:"
   ]
  },
  {
   "cell_type": "code",
   "execution_count": null,
   "id": "d5055386-e553-48eb-bce8-ed4b83205473",
   "metadata": {},
   "outputs": [
    {
     "ename": "ModuleNotFoundError",
     "evalue": "No module named 'py_clone_detective'",
     "output_type": "error",
     "traceback": [
      "\u001b[0;31m---------------------------------------------------------------------------\u001b[0m",
      "\u001b[0;31mModuleNotFoundError\u001b[0m                       Traceback (most recent call last)",
      "\u001b[0;32m/var/folders/j0/rvxl45091qg36bgv821hfkmc0000gn/T/ipykernel_23118/4265813136.py\u001b[0m in \u001b[0;36m<module>\u001b[0;34m\u001b[0m\n\u001b[0;32m----> 1\u001b[0;31m \u001b[0;32mimport\u001b[0m \u001b[0mratioimage\u001b[0m\u001b[0;34m.\u001b[0m\u001b[0mratio_images\u001b[0m \u001b[0;32mas\u001b[0m \u001b[0mri\u001b[0m\u001b[0;34m\u001b[0m\u001b[0;34m\u001b[0m\u001b[0m\n\u001b[0m\u001b[1;32m      2\u001b[0m \u001b[0;32mimport\u001b[0m \u001b[0mratioimage\u001b[0m\u001b[0;34m.\u001b[0m\u001b[0mplot_results\u001b[0m \u001b[0;32mas\u001b[0m \u001b[0mrp\u001b[0m\u001b[0;34m\u001b[0m\u001b[0;34m\u001b[0m\u001b[0m\n",
      "\u001b[0;32m~/Documents/my_python_packages/ratioimage/ratioimage/ratio_images.py\u001b[0m in \u001b[0;36m<module>\u001b[0;34m\u001b[0m\n\u001b[1;32m     11\u001b[0m \u001b[0;32mimport\u001b[0m \u001b[0mnumpy\u001b[0m \u001b[0;32mas\u001b[0m \u001b[0mnp\u001b[0m\u001b[0;34m\u001b[0m\u001b[0;34m\u001b[0m\u001b[0m\n\u001b[1;32m     12\u001b[0m \u001b[0;32mimport\u001b[0m \u001b[0mpandas\u001b[0m \u001b[0;32mas\u001b[0m \u001b[0mpd\u001b[0m\u001b[0;34m\u001b[0m\u001b[0;34m\u001b[0m\u001b[0m\n\u001b[0;32m---> 13\u001b[0;31m \u001b[0;32mfrom\u001b[0m \u001b[0mpy_clone_detective\u001b[0m\u001b[0;34m.\u001b[0m\u001b[0mutils\u001b[0m \u001b[0;32mimport\u001b[0m \u001b[0mextend_region_properties_list\u001b[0m\u001b[0;34m,\u001b[0m \u001b[0mgenerate_random_cmap\u001b[0m\u001b[0;34m\u001b[0m\u001b[0;34m\u001b[0m\u001b[0m\n\u001b[0m\u001b[1;32m     14\u001b[0m \u001b[0;32mfrom\u001b[0m \u001b[0mskimage\u001b[0m \u001b[0;32mimport\u001b[0m \u001b[0mimg_as_float\u001b[0m\u001b[0;34m,\u001b[0m \u001b[0mio\u001b[0m\u001b[0;34m,\u001b[0m \u001b[0mmeasure\u001b[0m\u001b[0;34m\u001b[0m\u001b[0;34m\u001b[0m\u001b[0m\n\u001b[1;32m     15\u001b[0m \u001b[0;34m\u001b[0m\u001b[0m\n",
      "\u001b[0;31mModuleNotFoundError\u001b[0m: No module named 'py_clone_detective'"
     ]
    }
   ],
   "source": [
    "import ratioimage.ratio_images as ri\n",
    "import ratioimage.plot_results as rp"
   ]
  },
  {
   "cell_type": "markdown",
   "id": "d97162c0-0710-42b1-826a-da20ec68be9c",
   "metadata": {},
   "source": [
    "Load in images and segmentations (label images):"
   ]
  },
  {
   "cell_type": "code",
   "execution_count": null,
   "id": "33fd8fc6-c35b-4826-931e-0c3cdb6d6cef",
   "metadata": {},
   "outputs": [
    {
     "ename": "NameError",
     "evalue": "name 'ri' is not defined",
     "output_type": "error",
     "traceback": [
      "\u001b[0;31m---------------------------------------------------------------------------\u001b[0m",
      "\u001b[0;31mNameError\u001b[0m                                 Traceback (most recent call last)",
      "\u001b[0;32m/var/folders/j0/rvxl45091qg36bgv821hfkmc0000gn/T/ipykernel_23118/4277544270.py\u001b[0m in \u001b[0;36m<module>\u001b[0;34m\u001b[0m\n\u001b[0;32m----> 1\u001b[0;31m \u001b[0mC0_imgs\u001b[0m \u001b[0;34m=\u001b[0m \u001b[0mri\u001b[0m\u001b[0;34m.\u001b[0m\u001b[0mcreate_img_dict_from_folder\u001b[0m\u001b[0;34m(\u001b[0m\u001b[0mload_pattern\u001b[0m\u001b[0;34m=\u001b[0m\u001b[0;34m\"data/PercevalHR_data/imgs/*C0.tiff\"\u001b[0m\u001b[0;34m)\u001b[0m\u001b[0;34m\u001b[0m\u001b[0;34m\u001b[0m\u001b[0m\n\u001b[0m\u001b[1;32m      2\u001b[0m \u001b[0mC1_imgs\u001b[0m \u001b[0;34m=\u001b[0m \u001b[0mri\u001b[0m\u001b[0;34m.\u001b[0m\u001b[0mcreate_img_dict_from_folder\u001b[0m\u001b[0;34m(\u001b[0m\u001b[0mload_pattern\u001b[0m\u001b[0;34m=\u001b[0m\u001b[0;34m\"data/PercevalHR_data/imgs/*C1.tiff\"\u001b[0m\u001b[0;34m)\u001b[0m\u001b[0;34m\u001b[0m\u001b[0;34m\u001b[0m\u001b[0m\n\u001b[1;32m      3\u001b[0m lab_imgs = re.create_img_dict_from_folder(\n\u001b[1;32m      4\u001b[0m     \u001b[0mload_pattern\u001b[0m\u001b[0;34m=\u001b[0m\u001b[0;34m\"data/PercevalHR_data/segs/*.tif\"\u001b[0m\u001b[0;34m,\u001b[0m \u001b[0mlabel\u001b[0m\u001b[0;34m=\u001b[0m\u001b[0;32mTrue\u001b[0m\u001b[0;34m\u001b[0m\u001b[0;34m\u001b[0m\u001b[0m\n\u001b[1;32m      5\u001b[0m )\n",
      "\u001b[0;31mNameError\u001b[0m: name 'ri' is not defined"
     ]
    }
   ],
   "source": [
    "C0_imgs = ri.create_img_dict_from_folder(load_pattern=\"data/PercevalHR_data/imgs/*C0.tiff\")\n",
    "C1_imgs = ri.create_img_dict_from_folder(load_pattern=\"data/PercevalHR_data/imgs/*C1.tiff\")\n",
    "lab_imgs = re.create_img_dict_from_folder(\n",
    "    load_pattern=\"data/PercevalHR_data/segs/*.tif\", label=True\n",
    ")"
   ]
  },
  {
   "cell_type": "code",
   "execution_count": null,
   "id": "ce9c5db5-d492-4ff7-ab61-6f78c8fb4898",
   "metadata": {},
   "outputs": [
    {
     "ename": "ModuleNotFoundError",
     "evalue": "No module named 'py_clone_detective'",
     "output_type": "error",
     "traceback": [
      "\u001b[0;31m---------------------------------------------------------------------------\u001b[0m",
      "\u001b[0;31mModuleNotFoundError\u001b[0m                       Traceback (most recent call last)",
      "\u001b[0;32m/var/folders/j0/rvxl45091qg36bgv821hfkmc0000gn/T/ipykernel_23118/1037867009.py\u001b[0m in \u001b[0;36m<module>\u001b[0;34m\u001b[0m\n\u001b[0;32m----> 1\u001b[0;31m \u001b[0;32mimport\u001b[0m \u001b[0mratioimage\u001b[0m\u001b[0;34m.\u001b[0m\u001b[0mratio_images\u001b[0m \u001b[0;32mas\u001b[0m \u001b[0mri\u001b[0m\u001b[0;34m\u001b[0m\u001b[0;34m\u001b[0m\u001b[0m\n\u001b[0m\u001b[1;32m      2\u001b[0m \u001b[0;32mimport\u001b[0m \u001b[0mratioimage\u001b[0m\u001b[0;34m.\u001b[0m\u001b[0mplot_results\u001b[0m \u001b[0;32mas\u001b[0m \u001b[0mrp\u001b[0m\u001b[0;34m\u001b[0m\u001b[0;34m\u001b[0m\u001b[0m\n\u001b[1;32m      3\u001b[0m \u001b[0;34m\u001b[0m\u001b[0m\n\u001b[1;32m      4\u001b[0m \u001b[0mC0_imgs\u001b[0m \u001b[0;34m=\u001b[0m \u001b[0mcreate_img_dict_from_folder\u001b[0m\u001b[0;34m(\u001b[0m\u001b[0mload_pattern\u001b[0m\u001b[0;34m=\u001b[0m\u001b[0;34m\"data/PercevalHR_data/imgs/*C0.tiff\"\u001b[0m\u001b[0;34m)\u001b[0m\u001b[0;34m\u001b[0m\u001b[0;34m\u001b[0m\u001b[0m\n\u001b[1;32m      5\u001b[0m \u001b[0mC1_imgs\u001b[0m \u001b[0;34m=\u001b[0m \u001b[0mcreate_img_dict_from_folder\u001b[0m\u001b[0;34m(\u001b[0m\u001b[0mload_pattern\u001b[0m\u001b[0;34m=\u001b[0m\u001b[0;34m\"data/PercevalHR_data/imgs/*C1.tiff\"\u001b[0m\u001b[0;34m)\u001b[0m\u001b[0;34m\u001b[0m\u001b[0;34m\u001b[0m\u001b[0m\n",
      "\u001b[0;32m~/Documents/my_python_packages/ratioimage/ratioimage/ratio_images.py\u001b[0m in \u001b[0;36m<module>\u001b[0;34m\u001b[0m\n\u001b[1;32m     11\u001b[0m \u001b[0;32mimport\u001b[0m \u001b[0mnumpy\u001b[0m \u001b[0;32mas\u001b[0m \u001b[0mnp\u001b[0m\u001b[0;34m\u001b[0m\u001b[0;34m\u001b[0m\u001b[0m\n\u001b[1;32m     12\u001b[0m \u001b[0;32mimport\u001b[0m \u001b[0mpandas\u001b[0m \u001b[0;32mas\u001b[0m \u001b[0mpd\u001b[0m\u001b[0;34m\u001b[0m\u001b[0;34m\u001b[0m\u001b[0m\n\u001b[0;32m---> 13\u001b[0;31m \u001b[0;32mfrom\u001b[0m \u001b[0mpy_clone_detective\u001b[0m\u001b[0;34m.\u001b[0m\u001b[0mutils\u001b[0m \u001b[0;32mimport\u001b[0m \u001b[0mextend_region_properties_list\u001b[0m\u001b[0;34m,\u001b[0m \u001b[0mgenerate_random_cmap\u001b[0m\u001b[0;34m\u001b[0m\u001b[0;34m\u001b[0m\u001b[0m\n\u001b[0m\u001b[1;32m     14\u001b[0m \u001b[0;32mfrom\u001b[0m \u001b[0mskimage\u001b[0m \u001b[0;32mimport\u001b[0m \u001b[0mimg_as_float\u001b[0m\u001b[0;34m,\u001b[0m \u001b[0mio\u001b[0m\u001b[0;34m,\u001b[0m \u001b[0mmeasure\u001b[0m\u001b[0;34m\u001b[0m\u001b[0;34m\u001b[0m\u001b[0m\n\u001b[1;32m     15\u001b[0m \u001b[0;34m\u001b[0m\u001b[0m\n",
      "\u001b[0;31mModuleNotFoundError\u001b[0m: No module named 'py_clone_detective'"
     ]
    }
   ],
   "source": [
    "df = ratiometric_measure_region_props_to_tidy_df(C1_imgs, C0_imgs, lab_imgs)\n",
    "df = split_img_key_col_to_sample_id_and_replicates(\n",
    "    df, sample_id_colname=\"genotype\", split_regex=r\"g\"\n",
    ")\n",
    "\n",
    "df = sample_id_to_categories(\n",
    "    df, sample_id_colname=\"genotype\", old_to_new_sample_ids={\"a1\": \"ctrl\", \"a2\": \"mut\"}\n",
    ")\n",
    "\n",
    "df.head()"
   ]
  },
  {
   "cell_type": "code",
   "execution_count": null,
   "id": "dbf1585c-1507-47e6-b6c3-b468a4b59190",
   "metadata": {},
   "outputs": [],
   "source": []
  }
 ],
 "metadata": {
  "kernelspec": {
   "display_name": "Python 3 (ipykernel)",
   "language": "python",
   "name": "python3"
  }
 },
 "nbformat": 4,
 "nbformat_minor": 5
}
