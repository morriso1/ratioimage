{
 "cells": [
  {
   "cell_type": "code",
   "execution_count": null,
   "metadata": {},
   "outputs": [],
   "source": [
    "# default_exp plot_results"
   ]
  },
  {
   "cell_type": "code",
   "execution_count": null,
   "metadata": {},
   "outputs": [],
   "source": [
    "# hide\n",
    "%load_ext autoreload\n",
    "%autoreload 2"
   ]
  },
  {
   "cell_type": "code",
   "execution_count": null,
   "metadata": {},
   "outputs": [],
   "source": [
    "# hide\n",
    "# from nbdev.showdoc import *"
   ]
  },
  {
   "cell_type": "markdown",
   "metadata": {},
   "source": [
    "# plot_results\n",
    "\n",
    "> API details."
   ]
  },
  {
   "cell_type": "code",
   "execution_count": null,
   "metadata": {},
   "outputs": [],
   "source": [
    "# export\n",
    "import re\n",
    "\n",
    "import matplotlib.pyplot as plt\n",
    "import numpy as np\n",
    "import pandas as pd\n",
    "import seaborn as sns"
   ]
  },
  {
   "cell_type": "markdown",
   "metadata": {},
   "source": [
    "## prerequisite code for in function examples"
   ]
  },
  {
   "cell_type": "code",
   "execution_count": null,
   "metadata": {},
   "outputs": [
    {
     "data": {
      "text/html": [
       "<div>\n",
       "<style scoped>\n",
       "    .dataframe tbody tr th:only-of-type {\n",
       "        vertical-align: middle;\n",
       "    }\n",
       "\n",
       "    .dataframe tbody tr th {\n",
       "        vertical-align: top;\n",
       "    }\n",
       "\n",
       "    .dataframe thead th {\n",
       "        text-align: right;\n",
       "    }\n",
       "</style>\n",
       "<table border=\"1\" class=\"dataframe\">\n",
       "  <thead>\n",
       "    <tr style=\"text-align: right;\">\n",
       "      <th></th>\n",
       "      <th>label</th>\n",
       "      <th>area</th>\n",
       "      <th>mean_intensity_num</th>\n",
       "      <th>centroid-0</th>\n",
       "      <th>centroid-1</th>\n",
       "      <th>img_key</th>\n",
       "      <th>mean_intensity_denom</th>\n",
       "      <th>ratio_mean_int</th>\n",
       "      <th>genotype</th>\n",
       "      <th>rep_id</th>\n",
       "    </tr>\n",
       "  </thead>\n",
       "  <tbody>\n",
       "    <tr>\n",
       "      <th>0</th>\n",
       "      <td>1</td>\n",
       "      <td>342</td>\n",
       "      <td>0.017960</td>\n",
       "      <td>7.400585</td>\n",
       "      <td>295.084795</td>\n",
       "      <td>a1g01</td>\n",
       "      <td>0.010094</td>\n",
       "      <td>1.779309</td>\n",
       "      <td>ctrl</td>\n",
       "      <td>01</td>\n",
       "    </tr>\n",
       "    <tr>\n",
       "      <th>1</th>\n",
       "      <td>2</td>\n",
       "      <td>200</td>\n",
       "      <td>0.012017</td>\n",
       "      <td>35.585000</td>\n",
       "      <td>80.495000</td>\n",
       "      <td>a1g01</td>\n",
       "      <td>0.006473</td>\n",
       "      <td>1.856478</td>\n",
       "      <td>ctrl</td>\n",
       "      <td>01</td>\n",
       "    </tr>\n",
       "    <tr>\n",
       "      <th>2</th>\n",
       "      <td>3</td>\n",
       "      <td>269</td>\n",
       "      <td>0.013259</td>\n",
       "      <td>79.152416</td>\n",
       "      <td>174.858736</td>\n",
       "      <td>a1g01</td>\n",
       "      <td>0.027961</td>\n",
       "      <td>0.474173</td>\n",
       "      <td>ctrl</td>\n",
       "      <td>01</td>\n",
       "    </tr>\n",
       "    <tr>\n",
       "      <th>3</th>\n",
       "      <td>4</td>\n",
       "      <td>213</td>\n",
       "      <td>0.013988</td>\n",
       "      <td>76.201878</td>\n",
       "      <td>282.995305</td>\n",
       "      <td>a1g01</td>\n",
       "      <td>0.019588</td>\n",
       "      <td>0.714101</td>\n",
       "      <td>ctrl</td>\n",
       "      <td>01</td>\n",
       "    </tr>\n",
       "    <tr>\n",
       "      <th>4</th>\n",
       "      <td>5</td>\n",
       "      <td>546</td>\n",
       "      <td>0.025333</td>\n",
       "      <td>86.560440</td>\n",
       "      <td>322.816850</td>\n",
       "      <td>a1g01</td>\n",
       "      <td>0.013664</td>\n",
       "      <td>1.854012</td>\n",
       "      <td>ctrl</td>\n",
       "      <td>01</td>\n",
       "    </tr>\n",
       "  </tbody>\n",
       "</table>\n",
       "</div>"
      ],
      "text/plain": [
       "   label  area  mean_intensity_num  centroid-0  centroid-1 img_key  \\\n",
       "0      1   342            0.017960    7.400585  295.084795   a1g01   \n",
       "1      2   200            0.012017   35.585000   80.495000   a1g01   \n",
       "2      3   269            0.013259   79.152416  174.858736   a1g01   \n",
       "3      4   213            0.013988   76.201878  282.995305   a1g01   \n",
       "4      5   546            0.025333   86.560440  322.816850   a1g01   \n",
       "\n",
       "   mean_intensity_denom  ratio_mean_int genotype rep_id  \n",
       "0              0.010094        1.779309     ctrl     01  \n",
       "1              0.006473        1.856478     ctrl     01  \n",
       "2              0.027961        0.474173     ctrl     01  \n",
       "3              0.019588        0.714101     ctrl     01  \n",
       "4              0.013664        1.854012     ctrl     01  "
      ]
     },
     "execution_count": null,
     "metadata": {},
     "output_type": "execute_result"
    }
   ],
   "source": [
    "from ratioimage.ratio_images import (\n",
    "    create_img_dict_from_folder,\n",
    "    ratiometric_measure_region_props_to_tidy_df,\n",
    "    sample_id_to_categories,\n",
    "    split_img_key_col_to_sample_id_and_replicates,\n",
    ")\n",
    "\n",
    "C0_imgs = create_img_dict_from_folder(load_pattern=\"data/PercevalHR_data/imgs/*C0.tiff\")\n",
    "C1_imgs = create_img_dict_from_folder(load_pattern=\"data/PercevalHR_data/imgs/*C1.tiff\")\n",
    "lab_imgs = create_img_dict_from_folder(\n",
    "    load_pattern=\"data/PercevalHR_data/segs/*.tif\", label=True\n",
    ")\n",
    "df = ratiometric_measure_region_props_to_tidy_df(C1_imgs, C0_imgs, lab_imgs)\n",
    "\n",
    "df = split_img_key_col_to_sample_id_and_replicates(\n",
    "    df, sample_id_colname=\"genotype\", split_regex=r\"g\"\n",
    ")\n",
    "\n",
    "df = sample_id_to_categories(\n",
    "    df, sample_id_colname=\"genotype\", old_to_new_sample_ids={\"a1\": \"ctrl\", \"a2\": \"mut\"}\n",
    ")\n",
    "\n",
    "df.head()"
   ]
  },
  {
   "cell_type": "markdown",
   "metadata": {},
   "source": [
    "## plot_results functions"
   ]
  },
  {
   "cell_type": "code",
   "execution_count": null,
   "metadata": {},
   "outputs": [],
   "source": [
    "# export\n",
    "def tidy_create_strip_box_plot(\n",
    "    y_axis_start: int = 0,\n",
    "    y_axis_limit: int = None,\n",
    "    y_label: str = \"set y label\",\n",
    "    notch: bool = True,\n",
    "    **kwargs,\n",
    "):\n",
    "    \"\"\"Creates sns plots. Pass **kwargs to sns.stripplot and sns.boxplot.\"\"\"\n",
    "\n",
    "    ax = sns.stripplot(\n",
    "        alpha=0.2, zorder=0, jitter=0.3, edgecolor=\"gray\", linewidth=0.5, **kwargs\n",
    "    )\n",
    "    ax = sns.boxplot(\n",
    "        fliersize=0, zorder=1, saturation=0.9, linewidth=1.5, notch=notch, **kwargs\n",
    "    )\n",
    "\n",
    "    if y_axis_limit is not None:\n",
    "        ax.set_ylim(top=y_axis_limit)\n",
    "\n",
    "    ax.set_ylim(bottom=y_axis_start)\n",
    "    ax.set_ylabel(y_label, fontsize=12)\n",
    "    ax.xaxis.set_tick_params(width=1)\n",
    "    ax.yaxis.set_tick_params(width=1)\n",
    "    ax.tick_params(axis=\"both\", which=\"major\", pad=1)\n",
    "    ax.xaxis.set_label_text(\"\")\n",
    "    plt.xticks(fontsize=12)\n",
    "    plt.yticks(fontsize=12)\n",
    "    plt.setp(ax.spines.values(), linewidth=1)\n",
    "    sns.despine()"
   ]
  },
  {
   "cell_type": "code",
   "execution_count": null,
   "metadata": {},
   "outputs": [
    {
     "data": {
      "image/png": "[encoded data removed]",
      "text/plain": [
       "<Figure size 126x180 with 1 Axes>"
      ]
     },
     "metadata": {
      "needs_background": "light"
     },
     "output_type": "display_data"
    }
   ],
   "source": [
    "fig, ax = plt.subplots(figsize=(1.75, 2.5))\n",
    "\n",
    "tidy_create_strip_box_plot(\n",
    "    x=\"genotype\",\n",
    "    y=\"ratio_mean_int\",\n",
    "    data=df,\n",
    "    ax=ax,\n",
    "    y_axis_limit=4,\n",
    "    y_label=\"PercevalHR 488/405\\n(Relative ATP/ADP)\",\n",
    "    palette=[\"#95a5a6\", \"#95a5a6\"],\n",
    ")"
   ]
  },
  {
   "cell_type": "code",
   "execution_count": null,
   "metadata": {},
   "outputs": [],
   "source": [
    "# export\n",
    "def tidy_create_swarm_box_plot(\n",
    "    y_axis_start: int = 0,\n",
    "    y_axis_limit: int = None,\n",
    "    y_label: str = \"set y label\",\n",
    "    **kwargs,\n",
    "):\n",
    "    \"\"\"Creates sns plots. Pass **kwargs to sns.swarmplot and sns.boxplot.\"\"\"\n",
    "\n",
    "    ax = sns.swarmplot(\n",
    "        alpha=0.8, zorder=1, edgecolor=\"gray\", linewidth=0.5, size=5, **kwargs\n",
    "    )\n",
    "\n",
    "    ax = sns.boxplot(\n",
    "        fliersize=0, zorder=0, saturation=0.9, linewidth=1.5, notch=False, **kwargs\n",
    "    )\n",
    "\n",
    "    for patch in ax.artists:\n",
    "        r, g, b, a = patch.get_facecolor()\n",
    "        patch.set_facecolor((r, g, b, 0.5))\n",
    "\n",
    "    if y_axis_limit != None:\n",
    "        ax.set_ylim(top=y_axis_limit)\n",
    "\n",
    "    ax.set_ylim(bottom=y_axis_start)\n",
    "    ax.set_ylabel(y_label, fontsize=12)\n",
    "    ax.xaxis.set_tick_params(width=1)\n",
    "    ax.yaxis.set_tick_params(width=1)\n",
    "    ax.tick_params(axis=\"both\", which=\"major\", pad=1)\n",
    "    ax.xaxis.set_label_text(\"\")\n",
    "    plt.xticks(fontsize=12)\n",
    "    plt.yticks(fontsize=12)\n",
    "    plt.setp(ax.spines.values(), linewidth=1)\n",
    "    sns.despine()"
   ]
  },
  {
   "cell_type": "code",
   "execution_count": null,
   "metadata": {},
   "outputs": [],
   "source": [
    "grouped_df = (\n",
    "    df.groupby([\"genotype\", \"rep_id\"]).agg({\"ratio_mean_int\": \"mean\"}).reset_index()\n",
    ")"
   ]
  },
  {
   "cell_type": "code",
   "execution_count": null,
   "metadata": {},
   "outputs": [
    {
     "data": {
      "image/png": "[encoded data removed]",
      "text/plain": [
       "<Figure size 126x180 with 1 Axes>"
      ]
     },
     "metadata": {
      "needs_background": "light"
     },
     "output_type": "display_data"
    }
   ],
   "source": [
    "fig, ax = plt.subplots(figsize=(1.75, 2.5))\n",
    "\n",
    "tidy_create_swarm_box_plot(\n",
    "    x=\"genotype\",\n",
    "    y=\"ratio_mean_int\",\n",
    "    ax=ax,\n",
    "    data=grouped_df,\n",
    "    y_axis_limit=2.5,\n",
    "    y_label=\"PercevalHR 488/405\\n(Relative ATP/ADP)\",\n",
    "    palette=[\"#95a5a6\", \"#95a5a6\"],\n",
    ")"
   ]
  },
  {
   "cell_type": "code",
   "execution_count": null,
   "metadata": {},
   "outputs": [
    {
     "data": {
      "image/png": "[encoded data removed]",
      "text/plain": [
       "<Figure size 324x180 with 2 Axes>"
      ]
     },
     "metadata": {
      "needs_background": "light"
     },
     "output_type": "display_data"
    }
   ],
   "source": [
    "fig, ax = plt.subplots(figsize=(4.5, 2.5), ncols=2)\n",
    "\n",
    "tidy_create_swarm_box_plot(\n",
    "    x=\"genotype\",\n",
    "    y=\"ratio_mean_int\",\n",
    "    ax=ax[0],\n",
    "    data=grouped_df,\n",
    "    y_axis_limit=2.5,\n",
    "    y_label=\"PercevalHR 488/405\\n(Relative ATP/ADP)\",\n",
    "    palette=[\"#95a5a6\", \"#95a5a6\"],\n",
    ")\n",
    "\n",
    "tidy_create_strip_box_plot(\n",
    "    x=\"genotype\",\n",
    "    y=\"ratio_mean_int\",\n",
    "    ax=ax[1],\n",
    "    data=df,\n",
    "    y_axis_limit=4,\n",
    "    y_label=\"PercevalHR 488/405\\n(Relative ATP/ADP)\",\n",
    "    palette=[\"#95a5a6\", \"#95a5a6\"],\n",
    ")\n",
    "plt.tight_layout()"
   ]
  }
 ],
 "metadata": {
  "kernelspec": {
   "display_name": "Python 3 (ipykernel)",
   "language": "python",
   "name": "python3"
  }
 },
 "nbformat": 4,
 "nbformat_minor": 4
}
