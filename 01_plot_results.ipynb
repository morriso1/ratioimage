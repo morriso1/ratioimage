{
 "cells": [
  {
   "cell_type": "code",
   "execution_count": null,
   "metadata": {},
   "outputs": [],
   "source": [
    "# default_exp plot_results"
   ]
  },
  {
   "cell_type": "code",
   "execution_count": null,
   "metadata": {},
   "outputs": [],
   "source": [
    "# hide\n",
    "# from nbdev.showdoc import *"
   ]
  },
  {
   "cell_type": "markdown",
   "metadata": {},
   "source": [
    "# plot_results\n",
    "\n",
    "> API details."
   ]
  },
  {
   "cell_type": "code",
   "execution_count": null,
   "metadata": {},
   "outputs": [],
   "source": [
    "# export\n",
    "import re\n",
    "\n",
    "import numpy as np\n",
    "import pandas as pd"
   ]
  },
  {
   "cell_type": "code",
   "execution_count": null,
   "metadata": {},
   "outputs": [
    {
     "ename": "ImportError",
     "evalue": "cannot import name 'sample_id_to_categories' from 'ratioimage.ratio_images' (/Users/ottomorris/Documents/my_python_packages/ratioimage/ratioimage/ratio_images.py)",
     "output_type": "error",
     "traceback": [
      "\u001b[0;31m---------------------------------------------------------------------------\u001b[0m",
      "\u001b[0;31mImportError\u001b[0m                               Traceback (most recent call last)",
      "\u001b[0;32m<ipython-input-3-cdd2e4731cc8>\u001b[0m in \u001b[0;36m<module>\u001b[0;34m\u001b[0m\n\u001b[0;32m----> 1\u001b[0;31m from ratioimage.ratio_images import (\n\u001b[0m\u001b[1;32m      2\u001b[0m     \u001b[0mcreate_img_dict_from_folder\u001b[0m\u001b[0;34m,\u001b[0m\u001b[0;34m\u001b[0m\u001b[0;34m\u001b[0m\u001b[0m\n\u001b[1;32m      3\u001b[0m     \u001b[0mratiometric_measure_region_props_to_tidy_df\u001b[0m\u001b[0;34m,\u001b[0m\u001b[0;34m\u001b[0m\u001b[0;34m\u001b[0m\u001b[0m\n\u001b[1;32m      4\u001b[0m     \u001b[0msample_id_to_categories\u001b[0m\u001b[0;34m,\u001b[0m\u001b[0;34m\u001b[0m\u001b[0;34m\u001b[0m\u001b[0m\n\u001b[1;32m      5\u001b[0m     \u001b[0msplit_img_key_col_to_sample_id_and_replicates\u001b[0m\u001b[0;34m,\u001b[0m\u001b[0;34m\u001b[0m\u001b[0;34m\u001b[0m\u001b[0m\n",
      "\u001b[0;31mImportError\u001b[0m: cannot import name 'sample_id_to_categories' from 'ratioimage.ratio_images' (/Users/ottomorris/Documents/my_python_packages/ratioimage/ratioimage/ratio_images.py)"
     ]
    }
   ],
   "source": [
    "from ratioimage.ratio_images import (\n",
    "    create_img_dict_from_folder,\n",
    "    ratiometric_measure_region_props_to_tidy_df,\n",
    "    sample_id_to_categories,\n",
    "    split_img_key_col_to_sample_id_and_replicates,\n",
    ")\n",
    "\n",
    "C0_imgs = create_img_dict_from_folder(load_pattern=\"data/PercevalHR_data/imgs/*C0.tiff\")\n",
    "C1_imgs = create_img_dict_from_folder(load_pattern=\"data/PercevalHR_data/imgs/*C1.tiff\")\n",
    "lab_imgs = create_img_dict_from_folder(\n",
    "    load_pattern=\"data/PercevalHR_data/masks/*.tif\", label=True\n",
    ")\n",
    "df = ratiometric_measure_region_props_to_tidy_df(C0_imgs, C1_imgs, lab_imgs)\n",
    "\n",
    "df = split_img_key_col_to_sample_id_and_replicates(\n",
    "    df, sample_id_colname=\"genotype\", split_regex=r\"g\"\n",
    ")\n",
    "\n",
    "df = sample_id_to_categories(\n",
    "    df, sample_id_colname=\"genotype\", old_to_new_sample_ids={\"a1\": \"ctrl\", \"a2\": \"mut\"}\n",
    ")\n",
    "\n",
    "df.head()"
   ]
  },
  {
   "cell_type": "code",
   "execution_count": null,
   "metadata": {},
   "outputs": [],
   "source": []
  }
 ],
 "metadata": {
  "kernelspec": {
   "display_name": "Python 3",
   "language": "python",
   "name": "python3"
  }
 },
 "nbformat": 4,
 "nbformat_minor": 4
}
